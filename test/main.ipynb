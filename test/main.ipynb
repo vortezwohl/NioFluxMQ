{
 "cells": [
  {
   "cell_type": "code",
   "execution_count": 46,
   "id": "initial_id",
   "metadata": {
    "collapsed": true,
    "ExecuteTime": {
     "end_time": "2025-08-29T17:38:07.519722Z",
     "start_time": "2025-08-29T17:38:07.514659Z"
    }
   },
   "outputs": [],
   "source": [
    "from nioflux_mq.engine.message_queue import MessageQueue\n",
    "\n",
    "mq = MessageQueue()\n",
    "topic_1 = 'topic_1'\n",
    "topic_2 = 'topic_2'\n",
    "consumer_1 = 'consumer_1'\n",
    "consumer_2 = 'consumer_2'"
   ]
  },
  {
   "cell_type": "code",
   "outputs": [
    {
     "data": {
      "text/plain": "(['topic_1', 'topic_2'],\n ['consumer_1', 'consumer_2'],\n {'topic_1': [], 'topic_2': []})"
     },
     "execution_count": 47,
     "metadata": {},
     "output_type": "execute_result"
    }
   ],
   "source": [
    "mq.register_topic(topic_1)\n",
    "mq.register_topic(topic_2)\n",
    "mq.register_consumer(consumer_1)\n",
    "mq.register_consumer(consumer_2)\n",
    "mq.topics, mq.consumers, mq.queues"
   ],
   "metadata": {
    "collapsed": false,
    "ExecuteTime": {
     "end_time": "2025-08-29T17:38:07.529243Z",
     "start_time": "2025-08-29T17:38:07.520733Z"
    }
   },
   "id": "8c85f975e9736d1a",
   "execution_count": 47
  },
  {
   "cell_type": "code",
   "outputs": [
    {
     "data": {
      "text/plain": "(['topic_2'], ['consumer_1', 'consumer_2'], {'topic_2': []})"
     },
     "execution_count": 48,
     "metadata": {},
     "output_type": "execute_result"
    }
   ],
   "source": [
    "mq.unregister_topic(topic_1)\n",
    "mq.topics, mq.consumers, mq.queues"
   ],
   "metadata": {
    "collapsed": false,
    "ExecuteTime": {
     "end_time": "2025-08-29T17:38:07.547773Z",
     "start_time": "2025-08-29T17:38:07.540766Z"
    }
   },
   "id": "21801d306f7d69ab",
   "execution_count": 48
  },
  {
   "cell_type": "code",
   "outputs": [
    {
     "data": {
      "text/plain": "(['topic_2'],\n ['consumer_1', 'consumer_2'],\n {'topic_2': [Message(id='67bdcabe475a4f0999096061f2304fe6', payload=b'1', timestamp=425107.7203382, ttl=-1.0, timeout=False),\n   Message(id='eda746a61f664503846b89e5c3a76783', payload=b'2', timestamp=425107.7204189, ttl=-1.0, timeout=False)]})"
     },
     "execution_count": 49,
     "metadata": {},
     "output_type": "execute_result"
    }
   ],
   "source": [
    "mq.produce(b'1')\n",
    "mq.produce(b'2')\n",
    "mq.topics, mq.consumers, mq.queues"
   ],
   "metadata": {
    "collapsed": false,
    "ExecuteTime": {
     "end_time": "2025-08-29T17:38:07.573838Z",
     "start_time": "2025-08-29T17:38:07.567652Z"
    }
   },
   "id": "476f127406a6ee95",
   "execution_count": 49
  },
  {
   "cell_type": "code",
   "outputs": [
    {
     "data": {
      "text/plain": "Message(id='67bdcabe475a4f0999096061f2304fe6', payload=b'1', timestamp=425107.7203382, ttl=-1.0, timeout=False)"
     },
     "execution_count": 50,
     "metadata": {},
     "output_type": "execute_result"
    }
   ],
   "source": [
    "mq.consume(consumer_1, topic_2)"
   ],
   "metadata": {
    "collapsed": false,
    "ExecuteTime": {
     "end_time": "2025-08-29T17:38:07.581363Z",
     "start_time": "2025-08-29T17:38:07.574843Z"
    }
   },
   "id": "da7527a9804cbba5",
   "execution_count": 50
  },
  {
   "cell_type": "code",
   "outputs": [
    {
     "data": {
      "text/plain": "{'consumer_1': {'topic_2': 2}, 'consumer_2': {}}"
     },
     "execution_count": 51,
     "metadata": {},
     "output_type": "execute_result"
    }
   ],
   "source": [
    "mq.advance(consumer_1, topic_2)\n",
    "mq.consumer_topic_offset"
   ],
   "metadata": {
    "collapsed": false,
    "ExecuteTime": {
     "end_time": "2025-08-29T17:38:07.595085Z",
     "start_time": "2025-08-29T17:38:07.589045Z"
    }
   },
   "id": "b00c32bcf7dbad36",
   "execution_count": 51
  },
  {
   "cell_type": "code",
   "outputs": [],
   "source": [
    "mq.consume(consumer_1, topic_2)"
   ],
   "metadata": {
    "collapsed": false,
    "ExecuteTime": {
     "end_time": "2025-08-29T17:38:07.643754Z",
     "start_time": "2025-08-29T17:38:07.639143Z"
    }
   },
   "id": "354ca04861b5bcda",
   "execution_count": 52
  },
  {
   "cell_type": "code",
   "outputs": [
    {
     "data": {
      "text/plain": "{'consumer_1': {'topic_2': 1}, 'consumer_2': {}}"
     },
     "execution_count": 53,
     "metadata": {},
     "output_type": "execute_result"
    }
   ],
   "source": [
    "mq.retreat(consumer_1, topic_2)\n",
    "mq.consumer_topic_offset"
   ],
   "metadata": {
    "collapsed": false,
    "ExecuteTime": {
     "end_time": "2025-08-29T17:38:07.678705Z",
     "start_time": "2025-08-29T17:38:07.672462Z"
    }
   },
   "id": "73e48e84f2e5e33a",
   "execution_count": 53
  },
  {
   "cell_type": "code",
   "outputs": [
    {
     "data": {
      "text/plain": "Message(id='eda746a61f664503846b89e5c3a76783', payload=b'2', timestamp=425107.7204189, ttl=-1.0, timeout=False)"
     },
     "execution_count": 54,
     "metadata": {},
     "output_type": "execute_result"
    }
   ],
   "source": [
    "mq.consume(consumer_1, topic_2)"
   ],
   "metadata": {
    "collapsed": false,
    "ExecuteTime": {
     "end_time": "2025-08-29T17:38:07.729798Z",
     "start_time": "2025-08-29T17:38:07.722290Z"
    }
   },
   "id": "5dadb37fc77dd4df",
   "execution_count": 54
  }
 ],
 "metadata": {
  "kernelspec": {
   "display_name": "Python 3",
   "language": "python",
   "name": "python3"
  },
  "language_info": {
   "codemirror_mode": {
    "name": "ipython",
    "version": 2
   },
   "file_extension": ".py",
   "mimetype": "text/x-python",
   "name": "python",
   "nbconvert_exporter": "python",
   "pygments_lexer": "ipython2",
   "version": "2.7.6"
  }
 },
 "nbformat": 4,
 "nbformat_minor": 5
}
