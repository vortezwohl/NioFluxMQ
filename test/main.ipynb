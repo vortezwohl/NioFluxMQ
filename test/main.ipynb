{
 "cells": [
  {
   "cell_type": "code",
   "execution_count": 1,
   "id": "initial_id",
   "metadata": {
    "collapsed": true,
    "ExecuteTime": {
     "end_time": "2025-08-29T13:39:39.457868Z",
     "start_time": "2025-08-29T13:39:39.449024Z"
    }
   },
   "outputs": [],
   "source": [
    "from nioflux_mq.engine.message_queue import MessageQueue\n",
    "\n",
    "mq = MessageQueue()\n",
    "topic_1 = 'topic_1'\n",
    "topic_2 = 'topic_2'\n",
    "consumer_1 = 'consumer_1'\n",
    "consumer_2 = 'consumer_2'"
   ]
  },
  {
   "cell_type": "code",
   "outputs": [
    {
     "data": {
      "text/plain": "(['topic_1', 'topic_2'], ['consumer_1', 'consumer_2'])"
     },
     "execution_count": 2,
     "metadata": {},
     "output_type": "execute_result"
    }
   ],
   "source": [
    "mq.register_topic(topic_1)\n",
    "mq.register_topic(topic_2)\n",
    "mq.register_consumer(consumer_1)\n",
    "mq.register_consumer(consumer_2)\n",
    "mq.topics, mq.consumers"
   ],
   "metadata": {
    "collapsed": false,
    "ExecuteTime": {
     "end_time": "2025-08-29T13:39:39.464834Z",
     "start_time": "2025-08-29T13:39:39.458895Z"
    }
   },
   "id": "8c85f975e9736d1a",
   "execution_count": 2
  },
  {
   "cell_type": "code",
   "outputs": [
    {
     "data": {
      "text/plain": "(['topic_2'], ['consumer_1', 'consumer_2'])"
     },
     "execution_count": 8,
     "metadata": {},
     "output_type": "execute_result"
    }
   ],
   "source": [
    "mq.unregister_topic(topic_1)\n",
    "mq.topics, mq.consumers"
   ],
   "metadata": {
    "collapsed": false,
    "ExecuteTime": {
     "end_time": "2025-08-29T13:39:47.084629Z",
     "start_time": "2025-08-29T13:39:47.080773Z"
    }
   },
   "id": "21801d306f7d69ab",
   "execution_count": 8
  }
 ],
 "metadata": {
  "kernelspec": {
   "display_name": "Python 3",
   "language": "python",
   "name": "python3"
  },
  "language_info": {
   "codemirror_mode": {
    "name": "ipython",
    "version": 2
   },
   "file_extension": ".py",
   "mimetype": "text/x-python",
   "name": "python",
   "nbconvert_exporter": "python",
   "pygments_lexer": "ipython2",
   "version": "2.7.6"
  }
 },
 "nbformat": 4,
 "nbformat_minor": 5
}
