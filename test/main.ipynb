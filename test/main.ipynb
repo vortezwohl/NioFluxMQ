{
 "cells": [
  {
   "cell_type": "code",
   "execution_count": 1,
   "id": "initial_id",
   "metadata": {
    "collapsed": true,
    "ExecuteTime": {
     "end_time": "2025-08-29T17:48:09.147789Z",
     "start_time": "2025-08-29T17:48:09.131937Z"
    }
   },
   "outputs": [],
   "source": [
    "from nioflux_mq.mq.message_queue import MessageQueue\n",
    "\n",
    "mq = MessageQueue()\n",
    "topic_1 = 'topic_1'\n",
    "topic_2 = 'topic_2'\n",
    "consumer_1 = 'consumer_1'\n",
    "consumer_2 = 'consumer_2'"
   ]
  },
  {
   "cell_type": "code",
   "outputs": [
    {
     "data": {
      "text/plain": "(['topic_1', 'topic_2'],\n ['consumer_1', 'consumer_2'],\n {'topic_1': [], 'topic_2': []})"
     },
     "execution_count": 2,
     "metadata": {},
     "output_type": "execute_result"
    }
   ],
   "source": [
    "mq.register_topic(topic_1)\n",
    "mq.register_topic(topic_2)\n",
    "mq.register_consumer(consumer_1)\n",
    "mq.register_consumer(consumer_2)\n",
    "mq.topics, mq.consumers, mq.queues"
   ],
   "metadata": {
    "collapsed": false,
    "ExecuteTime": {
     "end_time": "2025-08-29T17:48:09.155940Z",
     "start_time": "2025-08-29T17:48:09.148796Z"
    }
   },
   "id": "8c85f975e9736d1a",
   "execution_count": 2
  },
  {
   "cell_type": "code",
   "outputs": [
    {
     "data": {
      "text/plain": "(['topic_2'], ['consumer_1', 'consumer_2'], {'topic_2': []})"
     },
     "execution_count": 3,
     "metadata": {},
     "output_type": "execute_result"
    }
   ],
   "source": [
    "mq.unregister_topic(topic_1)\n",
    "mq.topics, mq.consumers, mq.queues"
   ],
   "metadata": {
    "collapsed": false,
    "ExecuteTime": {
     "end_time": "2025-08-29T17:48:09.162960Z",
     "start_time": "2025-08-29T17:48:09.156445Z"
    }
   },
   "id": "21801d306f7d69ab",
   "execution_count": 3
  },
  {
   "cell_type": "code",
   "outputs": [
    {
     "data": {
      "text/plain": "(['topic_2'],\n ['consumer_1', 'consumer_2'],\n {'topic_2': [Message(id='4cbb2284c8c347459144c5ed8402a77b', payload=b'1', timestamp=425709.3171073, ttl=-1.0, timeout=False),\n   Message(id='f2ffe7c87c9b4038a58ec3da2d1844d6', payload=b'2', timestamp=425709.317162, ttl=-1.0, timeout=False)]})"
     },
     "execution_count": 4,
     "metadata": {},
     "output_type": "execute_result"
    }
   ],
   "source": [
    "mq.produce(b'1')\n",
    "mq.produce(b'2')\n",
    "mq.topics, mq.consumers, mq.queues"
   ],
   "metadata": {
    "collapsed": false,
    "ExecuteTime": {
     "end_time": "2025-08-29T17:48:09.169979Z",
     "start_time": "2025-08-29T17:48:09.163464Z"
    }
   },
   "id": "476f127406a6ee95",
   "execution_count": 4
  },
  {
   "cell_type": "code",
   "outputs": [
    {
     "data": {
      "text/plain": "Message(id='4cbb2284c8c347459144c5ed8402a77b', payload=b'1', timestamp=425709.3171073, ttl=-1.0, timeout=False)"
     },
     "execution_count": 5,
     "metadata": {},
     "output_type": "execute_result"
    }
   ],
   "source": [
    "mq.consume(consumer_1, topic_2)"
   ],
   "metadata": {
    "collapsed": false,
    "ExecuteTime": {
     "end_time": "2025-08-29T17:48:09.176975Z",
     "start_time": "2025-08-29T17:48:09.171103Z"
    }
   },
   "id": "da7527a9804cbba5",
   "execution_count": 5
  },
  {
   "cell_type": "code",
   "outputs": [
    {
     "data": {
      "text/plain": "{'consumer_1': {'topic_2': 2}, 'consumer_2': {}}"
     },
     "execution_count": 6,
     "metadata": {},
     "output_type": "execute_result"
    }
   ],
   "source": [
    "mq.advance(consumer_1, topic_2)\n",
    "mq.consumer_topic_offset"
   ],
   "metadata": {
    "collapsed": false,
    "ExecuteTime": {
     "end_time": "2025-08-29T17:48:09.184353Z",
     "start_time": "2025-08-29T17:48:09.177988Z"
    }
   },
   "id": "b00c32bcf7dbad36",
   "execution_count": 6
  },
  {
   "cell_type": "code",
   "outputs": [],
   "source": [
    "mq.consume(consumer_1, topic_2)"
   ],
   "metadata": {
    "collapsed": false,
    "ExecuteTime": {
     "end_time": "2025-08-29T17:48:09.189785Z",
     "start_time": "2025-08-29T17:48:09.185363Z"
    }
   },
   "id": "354ca04861b5bcda",
   "execution_count": 7
  },
  {
   "cell_type": "code",
   "outputs": [
    {
     "data": {
      "text/plain": "{'consumer_1': {'topic_2': 1}, 'consumer_2': {}}"
     },
     "execution_count": 8,
     "metadata": {},
     "output_type": "execute_result"
    }
   ],
   "source": [
    "mq.retreat(consumer_1, topic_2)\n",
    "mq.consumer_topic_offset"
   ],
   "metadata": {
    "collapsed": false,
    "ExecuteTime": {
     "end_time": "2025-08-29T17:48:09.198829Z",
     "start_time": "2025-08-29T17:48:09.190790Z"
    }
   },
   "id": "73e48e84f2e5e33a",
   "execution_count": 8
  },
  {
   "cell_type": "code",
   "outputs": [
    {
     "data": {
      "text/plain": "Message(id='f2ffe7c87c9b4038a58ec3da2d1844d6', payload=b'2', timestamp=425709.317162, ttl=-1.0, timeout=False)"
     },
     "execution_count": 9,
     "metadata": {},
     "output_type": "execute_result"
    }
   ],
   "source": [
    "mq.consume(consumer_1, topic_2)"
   ],
   "metadata": {
    "collapsed": false,
    "ExecuteTime": {
     "end_time": "2025-08-29T17:48:09.205836Z",
     "start_time": "2025-08-29T17:48:09.200833Z"
    }
   },
   "id": "5dadb37fc77dd4df",
   "execution_count": 9
  }
 ],
 "metadata": {
  "kernelspec": {
   "display_name": "Python 3",
   "language": "python",
   "name": "python3"
  },
  "language_info": {
   "codemirror_mode": {
    "name": "ipython",
    "version": 2
   },
   "file_extension": ".py",
   "mimetype": "text/x-python",
   "name": "python",
   "nbconvert_exporter": "python",
   "pygments_lexer": "ipython2",
   "version": "2.7.6"
  }
 },
 "nbformat": 4,
 "nbformat_minor": 5
}
