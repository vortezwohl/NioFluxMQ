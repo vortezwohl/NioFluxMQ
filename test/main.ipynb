{
 "cells": [
  {
   "cell_type": "code",
   "execution_count": 8,
   "id": "initial_id",
   "metadata": {
    "collapsed": true,
    "ExecuteTime": {
     "end_time": "2025-08-29T13:43:42.222739Z",
     "start_time": "2025-08-29T13:43:42.219026Z"
    }
   },
   "outputs": [],
   "source": [
    "from nioflux_mq.engine.message_queue import MessageQueue\n",
    "\n",
    "mq = MessageQueue()\n",
    "topic_1 = 'topic_1'\n",
    "topic_2 = 'topic_2'\n",
    "consumer_1 = 'consumer_1'\n",
    "consumer_2 = 'consumer_2'"
   ]
  },
  {
   "cell_type": "code",
   "outputs": [
    {
     "data": {
      "text/plain": "(['topic_1', 'topic_2'], ['consumer_1', 'consumer_2'])"
     },
     "execution_count": 9,
     "metadata": {},
     "output_type": "execute_result"
    }
   ],
   "source": [
    "mq.register_topic(topic_1)\n",
    "mq.register_topic(topic_2)\n",
    "mq.register_consumer(consumer_1)\n",
    "mq.register_consumer(consumer_2)\n",
    "mq.topics, mq.consumers"
   ],
   "metadata": {
    "collapsed": false,
    "ExecuteTime": {
     "end_time": "2025-08-29T13:43:42.228688Z",
     "start_time": "2025-08-29T13:43:42.223750Z"
    }
   },
   "id": "8c85f975e9736d1a",
   "execution_count": 9
  },
  {
   "cell_type": "code",
   "outputs": [
    {
     "data": {
      "text/plain": "(['topic_2'], ['consumer_1', 'consumer_2'])"
     },
     "execution_count": 10,
     "metadata": {},
     "output_type": "execute_result"
    }
   ],
   "source": [
    "mq.unregister_topic(topic_1)\n",
    "mq.topics, mq.consumers"
   ],
   "metadata": {
    "collapsed": false,
    "ExecuteTime": {
     "end_time": "2025-08-29T13:43:42.233903Z",
     "start_time": "2025-08-29T13:43:42.229697Z"
    }
   },
   "id": "21801d306f7d69ab",
   "execution_count": 10
  },
  {
   "cell_type": "code",
   "outputs": [
    {
     "data": {
      "text/plain": "Message(id='4068b86e448d43f9b200c5a98a2fd5be', payload=b'1', timestamp=721481.9791661, ttl=-1.0, tags=[])"
     },
     "execution_count": 11,
     "metadata": {},
     "output_type": "execute_result"
    }
   ],
   "source": [
    "mq.produce(b'1')\n",
    "mq.consume(consumer_1, [], topic_2)"
   ],
   "metadata": {
    "collapsed": false,
    "ExecuteTime": {
     "end_time": "2025-08-29T13:43:42.239703Z",
     "start_time": "2025-08-29T13:43:42.233903Z"
    }
   },
   "id": "476f127406a6ee95",
   "execution_count": 11
  }
 ],
 "metadata": {
  "kernelspec": {
   "display_name": "Python 3",
   "language": "python",
   "name": "python3"
  },
  "language_info": {
   "codemirror_mode": {
    "name": "ipython",
    "version": 2
   },
   "file_extension": ".py",
   "mimetype": "text/x-python",
   "name": "python",
   "nbconvert_exporter": "python",
   "pygments_lexer": "ipython2",
   "version": "2.7.6"
  }
 },
 "nbformat": 4,
 "nbformat_minor": 5
}
