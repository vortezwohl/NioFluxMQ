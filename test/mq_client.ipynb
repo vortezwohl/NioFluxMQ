{
 "cells": [
  {
   "cell_type": "code",
   "execution_count": 146,
   "id": "initial_id",
   "metadata": {
    "collapsed": true,
    "ExecuteTime": {
     "end_time": "2025-08-31T17:20:30.982870Z",
     "start_time": "2025-08-31T17:20:30.959681Z"
    }
   },
   "outputs": [],
   "source": [
    "from nioflux_mq.client.client import NioFluxMQClient\n",
    "\n",
    "client = NioFluxMQClient(host='127.0.0.1', port=23861)"
   ]
  },
  {
   "cell_type": "code",
   "outputs": [
    {
     "data": {
      "text/plain": "Response(success=True, data=False, err=[])"
     },
     "execution_count": 150,
     "metadata": {},
     "output_type": "execute_result"
    }
   ],
   "source": [
    "client.register_topic('test_topic')"
   ],
   "metadata": {
    "collapsed": false,
    "ExecuteTime": {
     "end_time": "2025-08-31T17:20:47.221337Z",
     "start_time": "2025-08-31T17:20:47.215325Z"
    }
   },
   "id": "7aec4866b8d5ef4b",
   "execution_count": 150
  },
  {
   "cell_type": "code",
   "outputs": [
    {
     "data": {
      "text/plain": "Response(success=True, data=False, err=[])"
     },
     "execution_count": 152,
     "metadata": {},
     "output_type": "execute_result"
    }
   ],
   "source": [
    "client.register_consumer('test_consumer')"
   ],
   "metadata": {
    "collapsed": false,
    "ExecuteTime": {
     "end_time": "2025-08-31T17:21:14.793870Z",
     "start_time": "2025-08-31T17:21:14.787978Z"
    }
   },
   "id": "6d35015ebae34cee",
   "execution_count": 152
  },
  {
   "cell_type": "code",
   "outputs": [
    {
     "data": {
      "text/plain": "Response(success=True, data={'__class__': 'Message', '__dict__': {'id': 'a42b2487f29d439da8f2666b8bbc7db2', 'payload': 'test_message', 'timestamp': 596927.8317301, 'ttl': -1.0, 'timeout': False}}, err=[])"
     },
     "execution_count": 153,
     "metadata": {},
     "output_type": "execute_result"
    }
   ],
   "source": [
    "client.produce(b'test_message')"
   ],
   "metadata": {
    "collapsed": false,
    "ExecuteTime": {
     "end_time": "2025-08-31T17:21:46.675038Z",
     "start_time": "2025-08-31T17:21:46.668534Z"
    }
   },
   "id": "1d304604259deb7f",
   "execution_count": 153
  },
  {
   "cell_type": "code",
   "outputs": [
    {
     "data": {
      "text/plain": "Response(success=True, data={'__class__': 'Message', '__dict__': {'id': 'a42b2487f29d439da8f2666b8bbc7db2', 'payload': 'test_message', 'timestamp': 596927.8317301, 'ttl': -1.0, 'timeout': False}}, err=[])"
     },
     "execution_count": 165,
     "metadata": {},
     "output_type": "execute_result"
    }
   ],
   "source": [
    "client.consume('test_consumer', 'test_topic')"
   ],
   "metadata": {
    "collapsed": false,
    "ExecuteTime": {
     "end_time": "2025-08-31T17:22:57.292420Z",
     "start_time": "2025-08-31T17:22:57.286936Z"
    }
   },
   "id": "ea5ef85089bcfc8c",
   "execution_count": 165
  },
  {
   "cell_type": "code",
   "outputs": [
    {
     "data": {
      "text/plain": "Response(success=True, data=None, err=[])"
     },
     "execution_count": 162,
     "metadata": {},
     "output_type": "execute_result"
    }
   ],
   "source": [
    "client.advance('test_consumer', 'test_topic')"
   ],
   "metadata": {
    "collapsed": false,
    "ExecuteTime": {
     "end_time": "2025-08-31T17:22:53.866354Z",
     "start_time": "2025-08-31T17:22:53.860468Z"
    }
   },
   "id": "41db030dc7c5692b",
   "execution_count": 162
  },
  {
   "cell_type": "code",
   "outputs": [
    {
     "data": {
      "text/plain": "Response(success=True, data=None, err=[])"
     },
     "execution_count": 164,
     "metadata": {},
     "output_type": "execute_result"
    }
   ],
   "source": [
    "client.retreat('test_consumer', 'test_topic')"
   ],
   "metadata": {
    "collapsed": false,
    "ExecuteTime": {
     "end_time": "2025-08-31T17:22:56.333711Z",
     "start_time": "2025-08-31T17:22:56.327704Z"
    }
   },
   "id": "db08574f8cd5d2de",
   "execution_count": 164
  }
 ],
 "metadata": {
  "kernelspec": {
   "display_name": "Python 3",
   "language": "python",
   "name": "python3"
  },
  "language_info": {
   "codemirror_mode": {
    "name": "ipython",
    "version": 2
   },
   "file_extension": ".py",
   "mimetype": "text/x-python",
   "name": "python",
   "nbconvert_exporter": "python",
   "pygments_lexer": "ipython2",
   "version": "2.7.6"
  }
 },
 "nbformat": 4,
 "nbformat_minor": 5
}
