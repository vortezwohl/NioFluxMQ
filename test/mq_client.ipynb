{
 "cells": [
  {
   "cell_type": "code",
   "execution_count": null,
   "id": "initial_id",
   "metadata": {
    "collapsed": true,
    "is_executing": true
   },
   "outputs": [],
   "source": [
    "from nioflux_mq.client.client import NioFluxMQClient\n",
    "\n",
    "client = NioFluxMQClient(host='127.0.0.1', port=26105)"
   ]
  },
  {
   "cell_type": "code",
   "outputs": [
    {
     "data": {
      "text/plain": "Response(success=True, data=True, err=[])"
     },
     "execution_count": 100,
     "metadata": {},
     "output_type": "execute_result"
    }
   ],
   "source": [
    "client.register_topic('test_topic')"
   ],
   "metadata": {
    "collapsed": false,
    "ExecuteTime": {
     "end_time": "2025-09-01T05:13:30.534797Z",
     "start_time": "2025-09-01T05:13:30.527425Z"
    }
   },
   "id": "7aec4866b8d5ef4b",
   "execution_count": 100
  },
  {
   "cell_type": "code",
   "outputs": [
    {
     "data": {
      "text/plain": "Response(success=True, data=True, err=[])"
     },
     "execution_count": 101,
     "metadata": {},
     "output_type": "execute_result"
    }
   ],
   "source": [
    "client.register_consumer('test_consumer')"
   ],
   "metadata": {
    "collapsed": false,
    "ExecuteTime": {
     "end_time": "2025-09-01T05:13:30.540465Z",
     "start_time": "2025-09-01T05:13:30.535813Z"
    }
   },
   "id": "6d35015ebae34cee",
   "execution_count": 101
  },
  {
   "cell_type": "code",
   "outputs": [
    {
     "data": {
      "text/plain": "Response(success=True, data={'__class__': 'Message', '__dict__': {'id': 'c1d7bad66b884d29807a48f6e055bfd1', 'payload': 'test_message', 'timestamp': 950108.7442218, 'ttl': 1, 'timeout': False}}, err=[])"
     },
     "execution_count": 113,
     "metadata": {},
     "output_type": "execute_result"
    }
   ],
   "source": [
    "client.produce(b'test_message', 'topic_0', ttl=1)"
   ],
   "metadata": {
    "collapsed": false,
    "ExecuteTime": {
     "end_time": "2025-09-01T05:14:10.136974Z",
     "start_time": "2025-09-01T05:14:10.132364Z"
    }
   },
   "id": "1d304604259deb7f",
   "execution_count": 113
  },
  {
   "cell_type": "code",
   "outputs": [
    {
     "data": {
      "text/plain": "Response(success=True, data={'__class__': 'Message', '__dict__': {'id': '66957cb4ed9d45c2bcb9ad5804dd6e87', 'payload': 'test_message', 'timestamp': 950069.152898, 'ttl': 1, 'timeout': False}}, err=[])"
     },
     "execution_count": 103,
     "metadata": {},
     "output_type": "execute_result"
    }
   ],
   "source": [
    "client.consume('test_consumer', 'test_topic')"
   ],
   "metadata": {
    "collapsed": false,
    "ExecuteTime": {
     "end_time": "2025-09-01T05:13:30.550838Z",
     "start_time": "2025-09-01T05:13:30.546390Z"
    }
   },
   "id": "ea5ef85089bcfc8c",
   "execution_count": 103
  },
  {
   "cell_type": "code",
   "outputs": [
    {
     "data": {
      "text/plain": "Response(success=True, data=None, err=[])"
     },
     "execution_count": 104,
     "metadata": {},
     "output_type": "execute_result"
    }
   ],
   "source": [
    "client.advance('test_consumer', 'test_topic')"
   ],
   "metadata": {
    "collapsed": false,
    "ExecuteTime": {
     "end_time": "2025-09-01T05:13:30.555445Z",
     "start_time": "2025-09-01T05:13:30.551857Z"
    }
   },
   "id": "41db030dc7c5692b",
   "execution_count": 104
  },
  {
   "cell_type": "code",
   "outputs": [
    {
     "data": {
      "text/plain": "Response(success=True, data=None, err=[])"
     },
     "execution_count": 105,
     "metadata": {},
     "output_type": "execute_result"
    }
   ],
   "source": [
    "client.retreat('test_consumer', 'test_topic')"
   ],
   "metadata": {
    "collapsed": false,
    "ExecuteTime": {
     "end_time": "2025-09-01T05:13:30.560053Z",
     "start_time": "2025-09-01T05:13:30.555445Z"
    }
   },
   "id": "db08574f8cd5d2de",
   "execution_count": 105
  },
  {
   "cell_type": "code",
   "outputs": [
    {
     "data": {
      "text/plain": "Response(success=True, data=['test_topic'], err=[])"
     },
     "execution_count": 114,
     "metadata": {},
     "output_type": "execute_result"
    }
   ],
   "source": [
    "client.topics"
   ],
   "metadata": {
    "collapsed": false,
    "ExecuteTime": {
     "end_time": "2025-09-01T05:14:13.547318Z",
     "start_time": "2025-09-01T05:14:13.542900Z"
    }
   },
   "id": "4bb73982fda97f67",
   "execution_count": 114
  }
 ],
 "metadata": {
  "kernelspec": {
   "display_name": "Python 3",
   "language": "python",
   "name": "python3"
  },
  "language_info": {
   "codemirror_mode": {
    "name": "ipython",
    "version": 2
   },
   "file_extension": ".py",
   "mimetype": "text/x-python",
   "name": "python",
   "nbconvert_exporter": "python",
   "pygments_lexer": "ipython2",
   "version": "2.7.6"
  }
 },
 "nbformat": 4,
 "nbformat_minor": 5
}
