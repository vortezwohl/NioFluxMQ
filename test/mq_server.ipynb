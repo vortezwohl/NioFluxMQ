{
 "cells": [
  {
   "cell_type": "code",
   "execution_count": 7,
   "id": "initial_id",
   "metadata": {
    "collapsed": true,
    "ExecuteTime": {
     "end_time": "2025-08-29T19:10:58.819032Z",
     "start_time": "2025-08-29T19:10:58.815209Z"
    }
   },
   "outputs": [],
   "source": [
    "import json\n",
    "\n",
    "from nioflux.util import tcp_send\n",
    "from nioflux.server.server import DEFAULT_EOT"
   ]
  },
  {
   "cell_type": "code",
   "outputs": [
    {
     "data": {
      "text/plain": "b'{\"success\": true, \"info\": null, \"err\": []}'"
     },
     "execution_count": 8,
     "metadata": {},
     "output_type": "execute_result"
    }
   ],
   "source": [
    "tcp_send(json.dumps({\n",
    "    'instruction': 'register_topic',\n",
    "    'payload': {\n",
    "        'topic': 'test_topic'\n",
    "    },\n",
    "    'snapshot': False\n",
    "}).encode('utf-8') + DEFAULT_EOT, host='127.0.0.1', port=23861, wait=True)"
   ],
   "metadata": {
    "collapsed": false,
    "ExecuteTime": {
     "end_time": "2025-08-29T19:10:58.828914Z",
     "start_time": "2025-08-29T19:10:58.820561Z"
    }
   },
   "id": "7aec4866b8d5ef4b",
   "execution_count": 8
  }
 ],
 "metadata": {
  "kernelspec": {
   "display_name": "Python 3",
   "language": "python",
   "name": "python3"
  },
  "language_info": {
   "codemirror_mode": {
    "name": "ipython",
    "version": 2
   },
   "file_extension": ".py",
   "mimetype": "text/x-python",
   "name": "python",
   "nbconvert_exporter": "python",
   "pygments_lexer": "ipython2",
   "version": "2.7.6"
  }
 },
 "nbformat": 4,
 "nbformat_minor": 5
}
